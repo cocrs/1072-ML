{
 "cells": [
  {
   "cell_type": "code",
   "execution_count": 1,
   "metadata": {},
   "outputs": [],
   "source": [
    "import numpy as np\n",
    "import pandas as pd\n",
    "from sklearn import datasets, linear_model"
   ]
  },
  {
   "cell_type": "code",
   "execution_count": 2,
   "metadata": {},
   "outputs": [],
   "source": [
    "dfs = pd.read_csv(\"0319.csv\")\n",
    "\n",
    "x = dfs.iloc[:, 0]\n",
    "y = dfs.iloc[:, 1]\n",
    "\n",
    "x = x[:,None]\n",
    "y = y[:,None]\n",
    "\n",
    "y = np.where(y > 0.5, 1, 0)"
   ]
  },
  {
   "cell_type": "code",
   "execution_count": 3,
   "metadata": {},
   "outputs": [
    {
     "data": {
      "text/plain": [
       "LogisticRegression(C=100000.0, class_weight=None, dual=False,\n",
       "          fit_intercept=True, intercept_scaling=1, max_iter=100,\n",
       "          multi_class='warn', n_jobs=None, penalty='l2', random_state=None,\n",
       "          solver='lbfgs', tol=0.0001, verbose=0, warm_start=False)"
      ]
     },
     "execution_count": 3,
     "metadata": {},
     "output_type": "execute_result"
    }
   ],
   "source": [
    "clf = linear_model.LogisticRegression(C=1e5, solver='lbfgs')\n",
    "clf.fit(x, y.ravel())"
   ]
  },
  {
   "cell_type": "code",
   "execution_count": 4,
   "metadata": {
    "scrolled": true
   },
   "outputs": [
    {
     "name": "stdout",
     "output_type": "stream",
     "text": [
      "Coefficient:[[93.09817642]]\n",
      "Intercept:[-4.65813391]\n"
     ]
    }
   ],
   "source": [
    "print(\"Coefficient:\"+ str(clf.coef_))\n",
    "print(\"Intercept:\"+ str(clf.intercept_))"
   ]
  },
  {
   "cell_type": "code",
   "execution_count": 5,
   "metadata": {},
   "outputs": [],
   "source": [
    "#預測class0\n",
    "dfs = pd.read_csv(\"logistic.regression.basic.csv\")\n",
    "\n",
    "x = dfs.iloc[:, 0]\n",
    "y = dfs.iloc[:, 1]\n",
    "\n",
    "x = x[:, None]\n",
    "y = y[:, None]\n",
    "\n",
    "train_x = x[:270]\n",
    "train_y = y[:270]\n",
    "test_x = x[270:]\n",
    "test_y = y[270:]"
   ]
  },
  {
   "cell_type": "code",
   "execution_count": 6,
   "metadata": {},
   "outputs": [
    {
     "data": {
      "text/plain": [
       "LogisticRegression(C=100000.0, class_weight=None, dual=False,\n",
       "          fit_intercept=True, intercept_scaling=1, max_iter=100,\n",
       "          multi_class='warn', n_jobs=None, penalty='l2', random_state=None,\n",
       "          solver='lbfgs', tol=0.0001, verbose=0, warm_start=False)"
      ]
     },
     "execution_count": 6,
     "metadata": {},
     "output_type": "execute_result"
    }
   ],
   "source": [
    "clf = linear_model.LogisticRegression(C=1e5, solver='lbfgs')\n",
    "clf.fit(train_x, train_y.ravel())"
   ]
  },
  {
   "cell_type": "code",
   "execution_count": 7,
   "metadata": {},
   "outputs": [
    {
     "name": "stdout",
     "output_type": "stream",
     "text": [
      "Coefficient:[[176.94875632]]\n",
      "Intercept:[135.66942227]\n"
     ]
    }
   ],
   "source": [
    "print(\"Coefficient:\"+ str(clf.coef_))\n",
    "print(\"Intercept:\"+ str(clf.intercept_))"
   ]
  },
  {
   "cell_type": "code",
   "execution_count": 8,
   "metadata": {},
   "outputs": [
    {
     "name": "stdout",
     "output_type": "stream",
     "text": [
      "Result:[0 0 1 1 0 0 1 1 1 1 0 1 1 1 1 1 0 0 1 1 0 0 1 0 1 0 0 1 1 1]\n",
      "Accuracy:1.0\n"
     ]
    }
   ],
   "source": [
    "print(\"Result:\" + str(clf.predict(test_x)))\n",
    "print(\"Accuracy:\" + str(clf.score(test_x, test_y)))"
   ]
  },
  {
   "cell_type": "code",
   "execution_count": 9,
   "metadata": {},
   "outputs": [
    {
     "name": "stdout",
     "output_type": "stream",
     "text": [
      "Result:[0]\n"
     ]
    }
   ],
   "source": [
    "#a1= −0.902\n",
    "print(\"Result:\" + str(clf.predict([[-0.902]])))"
   ]
  },
  {
   "cell_type": "code",
   "execution_count": 10,
   "metadata": {},
   "outputs": [],
   "source": [
    "#預測class2\n",
    "x = dfs.iloc[:, 0]\n",
    "y = dfs.iloc[:, 3]\n",
    "\n",
    "x = x[:, None]\n",
    "y = y[:, None]\n",
    "\n",
    "train_x = x[:270]\n",
    "train_y = y[:270]\n",
    "test_x = x[270:]\n",
    "test_y = y[270:]"
   ]
  },
  {
   "cell_type": "code",
   "execution_count": 12,
   "metadata": {},
   "outputs": [
    {
     "data": {
      "text/plain": [
       "LogisticRegression(C=100000.0, class_weight=None, dual=False,\n",
       "          fit_intercept=True, intercept_scaling=1, max_iter=100,\n",
       "          multi_class='multinomial', n_jobs=None, penalty='l2',\n",
       "          random_state=None, solver='lbfgs', tol=0.0001, verbose=0,\n",
       "          warm_start=False)"
      ]
     },
     "execution_count": 12,
     "metadata": {},
     "output_type": "execute_result"
    }
   ],
   "source": [
    "clf = linear_model.LogisticRegression(C=1e5, solver='lbfgs', multi_class='multinomial')\n",
    "clf.fit(train_x, train_y.ravel())"
   ]
  },
  {
   "cell_type": "code",
   "execution_count": 13,
   "metadata": {},
   "outputs": [
    {
     "name": "stdout",
     "output_type": "stream",
     "text": [
      "Coefficient:[[ 169.685274  ]\n",
      " [ 100.22474343]\n",
      " [ -74.6988779 ]\n",
      " [-195.21113952]]\n",
      "Intercept:[  23.68442496   99.37747818   40.98182828 -164.04373142]\n"
     ]
    }
   ],
   "source": [
    "print(\"Coefficient:\"+ str(clf.coef_))\n",
    "print(\"Intercept:\"+ str(clf.intercept_))"
   ]
  },
  {
   "cell_type": "code",
   "execution_count": 14,
   "metadata": {},
   "outputs": [
    {
     "name": "stdout",
     "output_type": "stream",
     "text": [
      "Result:['C3' 'C3' 'C1' 'C1' 'C3' 'C3' 'C0' 'C2' 'C1' 'C0' 'C2' 'C0' 'C0' 'C0'\n",
      " 'C0' 'C1' 'C3' 'C3' 'C1' 'C0' 'C2' 'C2' 'C1' 'C3' 'C1' 'C2' 'C2' 'C0'\n",
      " 'C1' 'C2']\n",
      "Accuracy:1.0\n"
     ]
    }
   ],
   "source": [
    "print(\"Result:\" + str(clf.predict(test_x)))\n",
    "print(\"Accuracy:\" + str(clf.score(test_x, test_y)))"
   ]
  }
 ],
 "metadata": {
  "kernelspec": {
   "display_name": "Python 3",
   "language": "python",
   "name": "python3"
  },
  "language_info": {
   "codemirror_mode": {
    "name": "ipython",
    "version": 3
   },
   "file_extension": ".py",
   "mimetype": "text/x-python",
   "name": "python",
   "nbconvert_exporter": "python",
   "pygments_lexer": "ipython3",
   "version": "3.7.1"
  }
 },
 "nbformat": 4,
 "nbformat_minor": 2
}
